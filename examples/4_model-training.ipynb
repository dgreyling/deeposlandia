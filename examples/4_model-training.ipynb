{
 "cells": [
  {
   "cell_type": "markdown",
   "metadata": {},
   "source": [
    "# Model training"
   ]
  },
  {
   "cell_type": "markdown",
   "metadata": {},
   "source": [
    "This notebook aims at illustrating the way we can train simple neural network models in current framework."
   ]
  },
  {
   "cell_type": "markdown",
   "metadata": {},
   "source": [
    "`Mapillary` data will be used as an illustration of this process. Some details about the [dataset labels](./1b_mapillary-label-analysis.ipynb), as well as about the [dataset creation](./1a_mapillary-dataset-presentation.ipynb), are available in previous notebooks."
   ]
  },
  {
   "cell_type": "markdown",
   "metadata": {},
   "source": [
    "Moreover the model of interest here will be *semantic segmentation*. To get some more details about model handling, please refer to [model creation notebook](./3_neural-network-model-creation.ipynb)."
   ]
  },
  {
   "cell_type": "markdown",
   "metadata": {},
   "source": [
    "## Introduction"
   ]
  },
  {
   "cell_type": "markdown",
   "metadata": {},
   "source": [
    "As usual, some dependencies must be loaded before to begin:"
   ]
  },
  {
   "cell_type": "code",
   "execution_count": 2,
   "metadata": {},
   "outputs": [
    {
     "name": "stderr",
     "output_type": "stream",
     "text": [
      "/home/rde/.virtualenvs/deepo/lib/python3.6/site-packages/h5py/__init__.py:36: FutureWarning: Conversion of the second argument of issubdtype from `float` to `np.floating` is deprecated. In future, it will be treated as `np.float64 == np.dtype(float).type`.\n",
      "  from ._conv import register_converters as _register_converters\n",
      "Using TensorFlow backend.\n"
     ]
    }
   ],
   "source": [
    "import os\n",
    "from keras.models import Model\n",
    "from keras.optimizers import Adam\n",
    "from keras import backend, callbacks\n",
    "import matplotlib.pyplot as plt\n",
    "\n",
    "%matplotlib inline"
   ]
  },
  {
   "cell_type": "code",
   "execution_count": 3,
   "metadata": {},
   "outputs": [],
   "source": [
    "from deeposlandia import utils, dataset, generator, semantic_segmentation"
   ]
  },
  {
   "cell_type": "markdown",
   "metadata": {},
   "source": [
    "As in previous notebooks, a range of variables is declared to make further developments easier:"
   ]
  },
  {
   "cell_type": "code",
   "execution_count": 4,
   "metadata": {},
   "outputs": [],
   "source": [
    "DATAPATH = \"../data\"\n",
    "DATASET = \"mapillary\"\n",
    "MODEL = \"semantic_segmentation\"\n",
    "IMG_SIZE = 128\n",
    "BATCH_SIZE = 10\n",
    "NB_CHANNELS = 3\n",
    "LR_RATE = 1e-3\n",
    "LR_DECAY = 1e-5\n",
    "NB_EPOCHS=10\n",
    "INSTANCE_NAME = \"demo\"\n",
    "INPUT_FOLDER = utils.prepare_input_folder(DATAPATH, DATASET)\n",
    "INPUT_CONFIG = os.path.join(INPUT_FOLDER, \"config_aggregate.json\")\n",
    "PREPROCESS_FOLDER = utils.prepare_preprocessed_folder(DATAPATH, DATASET, IMG_SIZE, \"aggregated\")"
   ]
  },
  {
   "cell_type": "markdown",
   "metadata": {},
   "source": [
    "## Dataset recovering"
   ]
  },
  {
   "cell_type": "markdown",
   "metadata": {},
   "source": [
    "Here we recover an existing dataset generated in the [dedicated notebook](./2_generator-creation.ipynb):"
   ]
  },
  {
   "cell_type": "code",
   "execution_count": 5,
   "metadata": {},
   "outputs": [],
   "source": [
    "training_dataset = dataset.MapillaryDataset(IMG_SIZE, INPUT_CONFIG)"
   ]
  },
  {
   "cell_type": "code",
   "execution_count": 6,
   "metadata": {},
   "outputs": [
    {
     "name": "stdout",
     "output_type": "stream",
     "text": [
      "2018-08-22 16:29:24,115 :: INFO :: dataset :: load : The dataset has been loaded from ../data/mapillary/preprocessed/128_aggregated/training.json\n"
     ]
    },
    {
     "data": {
      "text/plain": [
       "100"
      ]
     },
     "execution_count": 6,
     "metadata": {},
     "output_type": "execute_result"
    }
   ],
   "source": [
    "training_dataset.load(PREPROCESS_FOLDER[\"training_config\"])\n",
    "training_dataset.get_nb_images()"
   ]
  },
  {
   "cell_type": "markdown",
   "metadata": {},
   "source": [
    "As we need the dataset two first components, *i.e.* training and validation, we still need to generate a brand new validation dataset:"
   ]
  },
  {
   "cell_type": "code",
   "execution_count": 7,
   "metadata": {},
   "outputs": [
    {
     "name": "stdout",
     "output_type": "stream",
     "text": [
      "2018-08-22 16:29:25,258 :: INFO :: dataset :: save : The dataset has been saved into ../data/mapillary/preprocessed/128_aggregated/validation.json\n"
     ]
    },
    {
     "data": {
      "text/plain": [
       "10"
      ]
     },
     "execution_count": 7,
     "metadata": {},
     "output_type": "execute_result"
    }
   ],
   "source": [
    "validation_dataset = dataset.MapillaryDataset(IMG_SIZE, INPUT_CONFIG)\n",
    "validation_dataset.populate(PREPROCESS_FOLDER[\"validation\"],\n",
    "                            os.path.join(INPUT_FOLDER, \"validation\"),\n",
    "                            nb_images=10,\n",
    "                            aggregate=True)\n",
    "validation_dataset.save(PREPROCESS_FOLDER[\"validation_config\"])\n",
    "validation_dataset.get_nb_images()"
   ]
  },
  {
   "cell_type": "markdown",
   "metadata": {},
   "source": [
    "## Build on-the-fly data generator"
   ]
  },
  {
   "cell_type": "markdown",
   "metadata": {},
   "source": [
    "Starting from this dataset, we can build the generators that will be used during training."
   ]
  },
  {
   "cell_type": "code",
   "execution_count": 8,
   "metadata": {},
   "outputs": [],
   "source": [
    "training_config = utils.read_config(PREPROCESS_FOLDER[\"training_config\"])\n",
    "validation_config = utils.read_config(PREPROCESS_FOLDER[\"validation_config\"])"
   ]
  },
  {
   "cell_type": "code",
   "execution_count": 9,
   "metadata": {},
   "outputs": [
    {
     "name": "stdout",
     "output_type": "stream",
     "text": [
      "Found 100 images belonging to 1 classes.\n",
      "Found 100 images belonging to 1 classes.\n",
      "Found 10 images belonging to 1 classes.\n",
      "Found 10 images belonging to 1 classes.\n"
     ]
    }
   ],
   "source": [
    "train_generator = generator.create_generator(DATASET,\n",
    "                                             MODEL,\n",
    "                                             PREPROCESS_FOLDER[\"training\"],\n",
    "                                             IMG_SIZE,\n",
    "                                             BATCH_SIZE,\n",
    "                                             training_config[\"labels\"])\n",
    "validation_generator = generator.create_generator(DATASET,\n",
    "                                                  MODEL,\n",
    "                                                  PREPROCESS_FOLDER[\"validation\"],\n",
    "                                                  IMG_SIZE,\n",
    "                                                  BATCH_SIZE,\n",
    "                                                  validation_config[\"labels\"])"
   ]
  },
  {
   "cell_type": "markdown",
   "metadata": {},
   "source": [
    "## Model creation"
   ]
  },
  {
   "cell_type": "markdown",
   "metadata": {},
   "source": [
    "From now, data are ready-to-use. We only have to initialize a neural network model. This step is described in a [dedicated notebook](./3_neural-network-model-creation.ipynb)."
   ]
  },
  {
   "cell_type": "markdown",
   "metadata": {},
   "source": [
    "First an instance of `SemanticSegmentationNetwork` object must be declared."
   ]
  },
  {
   "cell_type": "code",
   "execution_count": 10,
   "metadata": {},
   "outputs": [],
   "source": [
    "nb_labels = len(validation_config['labels'])\n",
    "network = semantic_segmentation.SemanticSegmentationNetwork(INSTANCE_NAME,\n",
    "                                                            IMG_SIZE,\n",
    "                                                            NB_CHANNELS,\n",
    "                                                            nb_labels,\n",
    "                                                            architecture=\"simple\")"
   ]
  },
  {
   "cell_type": "markdown",
   "metadata": {},
   "source": [
    "Then a Keras model is instanciated starting from the built architecture. The model has to be compiled with given loss function, optimizer and metrics, in order to launch any training process."
   ]
  },
  {
   "cell_type": "code",
   "execution_count": 11,
   "metadata": {},
   "outputs": [],
   "source": [
    "model = Model(network.X, network.Y)\n",
    "model.compile(loss=\"categorical_crossentropy\",\n",
    "              optimizer=Adam(lr=LR_RATE, decay=LR_DECAY),\n",
    "              metrics=[\"acc\"])"
   ]
  },
  {
   "cell_type": "markdown",
   "metadata": {},
   "source": [
    "## Model training"
   ]
  },
  {
   "cell_type": "markdown",
   "metadata": {},
   "source": [
    "Some parameter setting are necessary before to begin training. Namely we have to define the number of training and validation steps (basically the number of image divided by the batch size, in order to define an epoch as the evaluation of every image once)."
   ]
  },
  {
   "cell_type": "code",
   "execution_count": 12,
   "metadata": {},
   "outputs": [],
   "source": [
    "steps = training_dataset.get_nb_images() // BATCH_SIZE\n",
    "val_steps = validation_dataset.get_nb_images() // BATCH_SIZE"
   ]
  },
  {
   "cell_type": "markdown",
   "metadata": {},
   "source": [
    "Then we define a [Keras checkpoint callbacks](https://keras.io/callbacks/) to save the result of the optimization in a place of our choice."
   ]
  },
  {
   "cell_type": "code",
   "execution_count": 13,
   "metadata": {},
   "outputs": [],
   "source": [
    "output_folder = utils.prepare_output_folder(DATAPATH, DATASET, MODEL, INSTANCE_NAME)"
   ]
  },
  {
   "cell_type": "code",
   "execution_count": 14,
   "metadata": {},
   "outputs": [
    {
     "data": {
      "text/plain": [
       "'../data/mapillary/output/semantic_segmentation/checkpoints/demo'"
      ]
     },
     "execution_count": 14,
     "metadata": {},
     "output_type": "execute_result"
    }
   ],
   "source": [
    "output_folder"
   ]
  },
  {
   "cell_type": "code",
   "execution_count": 23,
   "metadata": {},
   "outputs": [],
   "source": [
    "checkpoint_filename = os.path.join(output_folder, \"checkpoint-epoch-{epoch:03d}.h5\")"
   ]
  },
  {
   "cell_type": "code",
   "execution_count": 24,
   "metadata": {},
   "outputs": [],
   "source": [
    "checkpoint = callbacks.ModelCheckpoint(checkpoint_filename,\n",
    "                                       monitor=\"val_loss\",\n",
    "                                       save_best_only=True,\n",
    "                                       save_weights_only=False,\n",
    "                                       mode='auto',\n",
    "                                       period=1)"
   ]
  },
  {
   "cell_type": "markdown",
   "metadata": {},
   "source": [
    "And finally the training process itself is run with training (and optionnally validation) generator(s)."
   ]
  },
  {
   "cell_type": "code",
   "execution_count": 25,
   "metadata": {},
   "outputs": [
    {
     "name": "stdout",
     "output_type": "stream",
     "text": [
      "Epoch 1/10\n",
      "10/10 [==============================] - 26s 3s/step - loss: 2.3551 - acc: 0.2951 - val_loss: 1.9213 - val_acc: 0.4626\n",
      "Epoch 2/10\n",
      "10/10 [==============================] - 25s 2s/step - loss: 1.7571 - acc: 0.5056 - val_loss: 1.4701 - val_acc: 0.6066\n",
      "Epoch 3/10\n",
      "10/10 [==============================] - 25s 2s/step - loss: 1.5579 - acc: 0.5450 - val_loss: 1.3500 - val_acc: 0.6595\n",
      "Epoch 4/10\n",
      "10/10 [==============================] - 26s 3s/step - loss: 1.4474 - acc: 0.5639 - val_loss: 1.4252 - val_acc: 0.5931\n",
      "Epoch 5/10\n",
      "10/10 [==============================] - 26s 3s/step - loss: 1.4562 - acc: 0.5498 - val_loss: 1.3519 - val_acc: 0.6067\n",
      "Epoch 6/10\n",
      "10/10 [==============================] - 25s 3s/step - loss: 1.4033 - acc: 0.5759 - val_loss: 1.2806 - val_acc: 0.6210\n",
      "Epoch 7/10\n",
      "10/10 [==============================] - 25s 3s/step - loss: 1.3953 - acc: 0.5688 - val_loss: 1.2571 - val_acc: 0.6322\n",
      "Epoch 8/10\n",
      "10/10 [==============================] - 26s 3s/step - loss: 1.3783 - acc: 0.5845 - val_loss: 1.3158 - val_acc: 0.6214\n",
      "Epoch 9/10\n",
      "10/10 [==============================] - 26s 3s/step - loss: 1.3812 - acc: 0.5758 - val_loss: 1.2610 - val_acc: 0.6442\n",
      "Epoch 10/10\n",
      "10/10 [==============================] - 26s 3s/step - loss: 1.3359 - acc: 0.5924 - val_loss: 1.1913 - val_acc: 0.6628\n"
     ]
    }
   ],
   "source": [
    "hist = model.fit_generator(train_generator,\n",
    "                           epochs=NB_EPOCHS,\n",
    "                           steps_per_epoch=steps,\n",
    "                           validation_data=validation_generator,\n",
    "                           validation_steps=val_steps,\n",
    "                           callbacks=[checkpoint])"
   ]
  },
  {
   "cell_type": "markdown",
   "metadata": {},
   "source": [
    "At this step, we have trained a model, and stored the corresponding checkpoints onto the file system. We may display some learning curves:"
   ]
  },
  {
   "cell_type": "code",
   "execution_count": 50,
   "metadata": {},
   "outputs": [
    {
     "data": {
      "image/png": "[encoded data removed]",
      "text/plain": [
       "<Figure size 576x288 with 2 Axes>"
      ]
     },
     "metadata": {},
     "output_type": "display_data"
    }
   ],
   "source": [
    "f, ax = plt.subplots(1, 2, figsize=(8, 4))\n",
    "ax[0].plot(hist.history['loss'])\n",
    "ax[0].plot(hist.history['val_loss'])\n",
    "ax[0].set_xlabel(\"Training epochs\")\n",
    "ax[0].set_ylabel(\"Categorical crossentropy\")\n",
    "ax[1].plot(hist.history['acc'])\n",
    "ax[1].plot(hist.history['val_acc'])\n",
    "ax[1].set_xlabel(\"Training epochs\")\n",
    "ax[1].set_ylabel(\"Accuracy (%)\")\n",
    "ax[1].legend([\"Training\", \"Validation\"])\n",
    "plt.tight_layout()"
   ]
  },
  {
   "cell_type": "markdown",
   "metadata": {},
   "source": [
    "On this short training process, we can see that a very simple model may converge towards interesting results (nothing extraordinary, anyway !)."
   ]
  },
  {
   "cell_type": "markdown",
   "metadata": {},
   "source": [
    "Considering the very low number of images in the training set, we could expect some overfitting, however that is not visible on this short process. The training set is even smaller, that being a possible explanation of the phenomenon."
   ]
  }
 ],
 "metadata": {
  "kernelspec": {
   "display_name": "Python 3",
   "language": "python",
   "name": "python3"
  },
  "language_info": {
   "codemirror_mode": {
    "name": "ipython",
    "version": 3
   },
   "file_extension": ".py",
   "mimetype": "text/x-python",
   "name": "python",
   "nbconvert_exporter": "python",
   "pygments_lexer": "ipython3",
   "version": "3.6.5"
  }
 },
 "nbformat": 4,
 "nbformat_minor": 2
}
