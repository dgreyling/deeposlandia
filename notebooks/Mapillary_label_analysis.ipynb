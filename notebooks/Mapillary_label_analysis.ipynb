{
 "cells": [
  {
   "cell_type": "markdown",
   "metadata": {
    "collapsed": true
   },
   "source": [
    "# Mapillary label analysis"
   ]
  },
  {
   "cell_type": "markdown",
   "metadata": {},
   "source": [
    "This notebook aims at describing the [Mapillary](https://www.mapillary.com/dataset/vistas) dataset. This dataset is used for semantic segmentation purpose, and contains 25000 street-scene images:\n",
    "- 18000 in training dataset;\n",
    "- 2000 in validation dataset;\n",
    "- 5000 in testing dataset.\n",
    "\n",
    "In the following cells, the dataset labels will be described, and their popularity within dataset will be evaluated. Additionnally, the following questions will be answered: what is the frequency of appearance of each object type? How many labels appear on a typical image? What are the most frequent object association?"
   ]
  },
  {
   "cell_type": "markdown",
   "metadata": {},
   "source": [
    "## Introduction"
   ]
  },
  {
   "cell_type": "markdown",
   "metadata": {},
   "source": [
    "As usual, we import the useful module. `pandas` is of course needed, as we will handle dataframes."
   ]
  },
  {
   "cell_type": "code",
   "execution_count": 2,
   "metadata": {},
   "outputs": [],
   "source": [
    "import itertools\n",
    "import json\n",
    "import matplotlib.pyplot as plt\n",
    "import numpy as np\n",
    "import os\n",
    "import pandas as pd\n",
    "import seaborn as sns\n",
    "\n",
    "%matplotlib inline"
   ]
  },
  {
   "cell_type": "markdown",
   "metadata": {},
   "source": [
    "Some modules in `./deeposlandia` are recovered to make the analysis easier."
   ]
  },
  {
   "cell_type": "code",
   "execution_count": 3,
   "metadata": {},
   "outputs": [],
   "source": [
    "from deeposlandia import aggregate_label, dataset, utils"
   ]
  },
  {
   "cell_type": "code",
   "execution_count": 4,
   "metadata": {},
   "outputs": [],
   "source": [
    "DATAPATH = '../data'\n",
    "DATASET = 'mapillary'"
   ]
  },
  {
   "cell_type": "code",
   "execution_count": 5,
   "metadata": {},
   "outputs": [
    {
     "data": {
      "image/png": "[encoded data removed]",
      "text/plain": [
       "<Figure size 504x72 with 1 Axes>"
      ]
     },
     "metadata": {},
     "output_type": "display_data"
    }
   ],
   "source": [
    "palette = sns.color_palette('hls', 7)\n",
    "sns.palplot(palette)"
   ]
  },
  {
   "cell_type": "markdown",
   "metadata": {},
   "source": [
    "## Metadata description"
   ]
  },
  {
   "cell_type": "code",
   "execution_count": 6,
   "metadata": {},
   "outputs": [],
   "source": [
    "config = utils.read_config(os.path.join(DATAPATH, DATASET, \"input\", \"config.json\"))"
   ]
  },
  {
   "cell_type": "code",
   "execution_count": 7,
   "metadata": {},
   "outputs": [
    {
     "data": {
      "text/plain": [
       "[{'color': [165, 42, 42],\n",
       "  'instances': True,\n",
       "  'readable': 'Bird',\n",
       "  'name': 'animal--bird',\n",
       "  'evaluate': True},\n",
       " {'color': [0, 192, 0],\n",
       "  'instances': True,\n",
       "  'readable': 'Ground Animal',\n",
       "  'name': 'animal--ground-animal',\n",
       "  'evaluate': True}]"
      ]
     },
     "execution_count": 7,
     "metadata": {},
     "output_type": "execute_result"
    }
   ],
   "source": [
    "labels = config[\"labels\"]\n",
    "labels[:2]"
   ]
  },
  {
   "cell_type": "markdown",
   "metadata": {},
   "source": [
    "In order to describe the Mapillary dataset labels, we transform the information contained into configuration file as a `pandas.DataFrame`."
   ]
  },
  {
   "cell_type": "code",
   "execution_count": 8,
   "metadata": {},
   "outputs": [
    {
     "data": {
      "text/html": [
       "<div>\n",
       "<style scoped>\n",
       "    .dataframe tbody tr th:only-of-type {\n",
       "        vertical-align: middle;\n",
       "    }\n",
       "\n",
       "    .dataframe tbody tr th {\n",
       "        vertical-align: top;\n",
       "    }\n",
       "\n",
       "    .dataframe thead th {\n",
       "        text-align: right;\n",
       "    }\n",
       "</style>\n",
       "<table border=\"1\" class=\"dataframe\">\n",
       "  <thead>\n",
       "    <tr style=\"text-align: right;\">\n",
       "      <th></th>\n",
       "      <th>color</th>\n",
       "      <th>evaluate</th>\n",
       "      <th>instances</th>\n",
       "      <th>name</th>\n",
       "      <th>readable</th>\n",
       "      <th>id</th>\n",
       "      <th>family</th>\n",
       "      <th>label</th>\n",
       "      <th>new_label</th>\n",
       "    </tr>\n",
       "  </thead>\n",
       "  <tbody>\n",
       "    <tr>\n",
       "      <th>0</th>\n",
       "      <td>[165, 42, 42]</td>\n",
       "      <td>True</td>\n",
       "      <td>True</td>\n",
       "      <td>animal--bird</td>\n",
       "      <td>Bird</td>\n",
       "      <td>0</td>\n",
       "      <td>animal</td>\n",
       "      <td>bird</td>\n",
       "      <td>animal</td>\n",
       "    </tr>\n",
       "    <tr>\n",
       "      <th>1</th>\n",
       "      <td>[0, 192, 0]</td>\n",
       "      <td>True</td>\n",
       "      <td>True</td>\n",
       "      <td>animal--ground-animal</td>\n",
       "      <td>Ground Animal</td>\n",
       "      <td>1</td>\n",
       "      <td>animal</td>\n",
       "      <td>ground-animal</td>\n",
       "      <td>animal</td>\n",
       "    </tr>\n",
       "    <tr>\n",
       "      <th>2</th>\n",
       "      <td>[196, 196, 196]</td>\n",
       "      <td>True</td>\n",
       "      <td>False</td>\n",
       "      <td>construction--barrier--curb</td>\n",
       "      <td>Curb</td>\n",
       "      <td>2</td>\n",
       "      <td>construction</td>\n",
       "      <td>curb</td>\n",
       "      <td>barrier</td>\n",
       "    </tr>\n",
       "  </tbody>\n",
       "</table>\n",
       "</div>"
      ],
      "text/plain": [
       "             color  evaluate  instances                         name  \\\n",
       "0    [165, 42, 42]      True       True                 animal--bird   \n",
       "1      [0, 192, 0]      True       True        animal--ground-animal   \n",
       "2  [196, 196, 196]      True      False  construction--barrier--curb   \n",
       "\n",
       "        readable  id        family          label new_label  \n",
       "0           Bird   0        animal           bird    animal  \n",
       "1  Ground Animal   1        animal  ground-animal    animal  \n",
       "2           Curb   2  construction           curb   barrier  "
      ]
     },
     "execution_count": 8,
     "metadata": {},
     "output_type": "execute_result"
    }
   ],
   "source": [
    "df_labels = aggregate_label.config_as_dataframe(config)\n",
    "df_labels.head(3)"
   ]
  },
  {
   "cell_type": "code",
   "execution_count": 9,
   "metadata": {},
   "outputs": [
    {
     "data": {
      "text/plain": [
       "66"
      ]
     },
     "execution_count": 9,
     "metadata": {},
     "output_type": "execute_result"
    }
   ],
   "source": [
    "len(df_labels)"
   ]
  },
  {
   "cell_type": "code",
   "execution_count": 10,
   "metadata": {},
   "outputs": [
    {
     "data": {
      "text/plain": [
       "([0, 1, 2, 3, 4, 5, 6], <a list of 7 Text xticklabel objects>)"
      ]
     },
     "execution_count": 10,
     "metadata": {},
     "output_type": "execute_result"
    },
    {
     "data": {
      "image/png": "[encoded data removed]",
      "text/plain": [
       "<Figure size 432x288 with 1 Axes>"
      ]
     },
     "metadata": {},
     "output_type": "display_data"
    }
   ],
   "source": [
    "label_categories = df_labels['family'].unique()\n",
    "plt.bar(label_categories, df_labels.groupby(\"family\")['name'].count(), color=palette)\n",
    "plt.xticks(rotation=90)"
   ]
  },
  {
   "cell_type": "markdown",
   "metadata": {},
   "source": [
    "There is 66 labels, splitted into 7 subclasses: `animal`, `construction`, `human`, `marking`, `nature`, `object` and `void`. Whilst the `object` category contains a lot of labels, there are only a few ones for `animal`, `human`, `marking` or `void` categories."
   ]
  },
  {
   "cell_type": "markdown",
   "metadata": {},
   "source": [
    "The labels have two levels of subdivision, so we may create a shorter list of aggregated labels. We get the following new labels:"
   ]
  },
  {
   "cell_type": "code",
   "execution_count": 15,
   "metadata": {},
   "outputs": [
    {
     "data": {
      "text/html": [
       "<div>\n",
       "<style scoped>\n",
       "    .dataframe tbody tr th:only-of-type {\n",
       "        vertical-align: middle;\n",
       "    }\n",
       "\n",
       "    .dataframe tbody tr th {\n",
       "        vertical-align: top;\n",
       "    }\n",
       "\n",
       "    .dataframe thead th {\n",
       "        text-align: right;\n",
       "    }\n",
       "</style>\n",
       "<table border=\"1\" class=\"dataframe\">\n",
       "  <thead>\n",
       "    <tr style=\"text-align: right;\">\n",
       "      <th></th>\n",
       "      <th>family</th>\n",
       "    </tr>\n",
       "    <tr>\n",
       "      <th>new_label</th>\n",
       "      <th></th>\n",
       "    </tr>\n",
       "  </thead>\n",
       "  <tbody>\n",
       "    <tr>\n",
       "      <th>animal</th>\n",
       "      <td>animal</td>\n",
       "    </tr>\n",
       "    <tr>\n",
       "      <th>barrier</th>\n",
       "      <td>construction</td>\n",
       "    </tr>\n",
       "    <tr>\n",
       "      <th>flat</th>\n",
       "      <td>construction</td>\n",
       "    </tr>\n",
       "    <tr>\n",
       "      <th>structure</th>\n",
       "      <td>construction</td>\n",
       "    </tr>\n",
       "    <tr>\n",
       "      <th>human</th>\n",
       "      <td>human</td>\n",
       "    </tr>\n",
       "    <tr>\n",
       "      <th>rider</th>\n",
       "      <td>human</td>\n",
       "    </tr>\n",
       "    <tr>\n",
       "      <th>marking</th>\n",
       "      <td>marking</td>\n",
       "    </tr>\n",
       "    <tr>\n",
       "      <th>nature</th>\n",
       "      <td>nature</td>\n",
       "    </tr>\n",
       "    <tr>\n",
       "      <th>object</th>\n",
       "      <td>object</td>\n",
       "    </tr>\n",
       "    <tr>\n",
       "      <th>support</th>\n",
       "      <td>object</td>\n",
       "    </tr>\n",
       "    <tr>\n",
       "      <th>traffic-sign</th>\n",
       "      <td>object</td>\n",
       "    </tr>\n",
       "    <tr>\n",
       "      <th>vehicle</th>\n",
       "      <td>object</td>\n",
       "    </tr>\n",
       "    <tr>\n",
       "      <th>void</th>\n",
       "      <td>void</td>\n",
       "    </tr>\n",
       "  </tbody>\n",
       "</table>\n",
       "</div>"
      ],
      "text/plain": [
       "                    family\n",
       "new_label                 \n",
       "animal              animal\n",
       "barrier       construction\n",
       "flat          construction\n",
       "structure     construction\n",
       "human                human\n",
       "rider                human\n",
       "marking            marking\n",
       "nature              nature\n",
       "object              object\n",
       "support             object\n",
       "traffic-sign        object\n",
       "vehicle             object\n",
       "void                  void"
      ]
     },
     "execution_count": 15,
     "metadata": {},
     "output_type": "execute_result"
    }
   ],
   "source": [
    "agg_label_family = (df_labels[[\"family\", \"new_label\"]]\n",
    "                    .copy()\n",
    "                    .drop_duplicates()\n",
    "                    .set_index('new_label'))\n",
    "agg_label_family"
   ]
  },
  {
   "cell_type": "markdown",
   "metadata": {},
   "source": [
    "They are 11 new labels that represented the Mapillary dataset in a more simplified way. `construction` is splitted into `barrier`, `flat` and `construction` labels, whilst `object` is splitted into ̀`object`, `traffic` and `vehicle` labels.\n",
    "\n",
    "As a remark, we may note that `human` class contains `human` and `rider` sub-labels, however this case if not considered when aggregating labels as `rider` label is rare."
   ]
  },
  {
   "cell_type": "code",
   "execution_count": 16,
   "metadata": {},
   "outputs": [],
   "source": [
    "agg_color = []\n",
    "for label in agg_label_family['family']:\n",
    "    mask = label==df_labels['family'].unique()\n",
    "    agg_color.append(palette[np.argmax(mask)])"
   ]
  },
  {
   "cell_type": "code",
   "execution_count": 18,
   "metadata": {},
   "outputs": [
    {
     "data": {
      "text/plain": [
       "([0, 1, 2, 3, 4, 5, 6, 7, 8, 9, 10, 11, 12],\n",
       " <a list of 13 Text xticklabel objects>)"
      ]
     },
     "execution_count": 18,
     "metadata": {},
     "output_type": "execute_result"
    },
    {
     "data": {
      "image/png": "[encoded data removed]",
      "text/plain": [
       "<Figure size 432x288 with 1 Axes>"
      ]
     },
     "metadata": {},
     "output_type": "display_data"
    }
   ],
   "source": [
    "agg_label_count = df_labels.groupby('new_label')['name'].count()\n",
    "plt.bar(agg_label_count.index, agg_label_count, color=agg_color)\n",
    "plt.xticks(rotation=90)"
   ]
  },
  {
   "cell_type": "markdown",
   "metadata": {},
   "source": [
    "These aggregation step makes a more balanced distribution. In particular, we denote:\n",
    "- 16 miscellaneous `object` labels:"
   ]
  },
  {
   "cell_type": "code",
   "execution_count": 20,
   "metadata": {},
   "outputs": [
    {
     "data": {
      "text/plain": [
       "array(['Banner', 'Bench', 'Bike Rack', 'Billboard', 'Catch Basin',\n",
       "       'CCTV Camera', 'Fire Hydrant', 'Junction Box', 'Mailbox',\n",
       "       'Manhole', 'Phone Booth', 'Pothole', 'Street Light',\n",
       "       'Traffic Light', 'Trash Can'], dtype=object)"
      ]
     },
     "execution_count": 20,
     "metadata": {},
     "output_type": "execute_result"
    }
   ],
   "source": [
    "df_labels.loc[df_labels['new_label']==\"object\", \"readable\"].values"
   ]
  },
  {
   "cell_type": "markdown",
   "metadata": {},
   "source": [
    "- 11 `vehicle` objects:"
   ]
  },
  {
   "cell_type": "code",
   "execution_count": 21,
   "metadata": {},
   "outputs": [
    {
     "data": {
      "text/plain": [
       "array(['Bicycle', 'Boat', 'Bus', 'Car', 'Caravan', 'Motorcycle',\n",
       "       'On Rails', 'Other Vehicle', 'Trailer', 'Truck', 'Wheeled Slow'],\n",
       "      dtype=object)"
      ]
     },
     "execution_count": 21,
     "metadata": {},
     "output_type": "execute_result"
    }
   ],
   "source": [
    "df_labels.loc[df_labels['new_label']==\"vehicle\", \"readable\"].values"
   ]
  },
  {
   "cell_type": "markdown",
   "metadata": {},
   "source": [
    "- 9 `flat` objects:"
   ]
  },
  {
   "cell_type": "code",
   "execution_count": 22,
   "metadata": {},
   "outputs": [
    {
     "data": {
      "text/plain": [
       "array(['Bike Lane', 'Crosswalk - Plain', 'Curb Cut', 'Parking',\n",
       "       'Pedestrian Area', 'Rail Track', 'Road', 'Service Lane',\n",
       "       'Sidewalk'], dtype=object)"
      ]
     },
     "execution_count": 22,
     "metadata": {},
     "output_type": "execute_result"
    }
   ],
   "source": [
    "df_labels.loc[df_labels['new_label']==\"flat\", \"readable\"].values"
   ]
  },
  {
   "cell_type": "markdown",
   "metadata": {},
   "source": [
    "- and so on..."
   ]
  },
  {
   "cell_type": "markdown",
   "metadata": {},
   "source": [
    "## Data description"
   ]
  },
  {
   "cell_type": "markdown",
   "metadata": {},
   "source": [
    "In order to describe the dataset itself, we focus on preprocessed images of size `224 * 224`. The `undefined` label is dropped from the analysis, so we only consider 65 labels."
   ]
  },
  {
   "cell_type": "code",
   "execution_count": 23,
   "metadata": {},
   "outputs": [],
   "source": [
    "config = utils.read_config(os.path.join(DATAPATH, DATASET, 'preprocessed', '224_full', 'training.json'))\n",
    "df_labels = df_labels.drop(65, axis=0)"
   ]
  },
  {
   "cell_type": "markdown",
   "metadata": {},
   "source": [
    "The configuration file for preprocessed dataset contains a `images` section, where the presence of every label is filled in. By extracting this information and transforming it into a `pandas.DataFrame` (each row refers to an image, each column to a label, a ̀`1` means that the label is on the picture), we can show the first images as an example:"
   ]
  },
  {
   "cell_type": "code",
   "execution_count": 84,
   "metadata": {},
   "outputs": [
    {
     "data": {
      "text/html": [
       "<div>\n",
       "<style scoped>\n",
       "    .dataframe tbody tr th:only-of-type {\n",
       "        vertical-align: middle;\n",
       "    }\n",
       "\n",
       "    .dataframe tbody tr th {\n",
       "        vertical-align: top;\n",
       "    }\n",
       "\n",
       "    .dataframe thead th {\n",
       "        text-align: right;\n",
       "    }\n",
       "</style>\n",
       "<table border=\"1\" class=\"dataframe\">\n",
       "  <thead>\n",
       "    <tr style=\"text-align: right;\">\n",
       "      <th></th>\n",
       "      <th>0</th>\n",
       "      <th>1</th>\n",
       "      <th>10</th>\n",
       "      <th>11</th>\n",
       "      <th>12</th>\n",
       "      <th>13</th>\n",
       "      <th>14</th>\n",
       "      <th>15</th>\n",
       "      <th>16</th>\n",
       "      <th>17</th>\n",
       "      <th>...</th>\n",
       "      <th>59</th>\n",
       "      <th>6</th>\n",
       "      <th>60</th>\n",
       "      <th>61</th>\n",
       "      <th>62</th>\n",
       "      <th>63</th>\n",
       "      <th>64</th>\n",
       "      <th>7</th>\n",
       "      <th>8</th>\n",
       "      <th>9</th>\n",
       "    </tr>\n",
       "  </thead>\n",
       "  <tbody>\n",
       "    <tr>\n",
       "      <th>0</th>\n",
       "      <td>1</td>\n",
       "      <td>0</td>\n",
       "      <td>0</td>\n",
       "      <td>0</td>\n",
       "      <td>0</td>\n",
       "      <td>1</td>\n",
       "      <td>0</td>\n",
       "      <td>1</td>\n",
       "      <td>0</td>\n",
       "      <td>1</td>\n",
       "      <td>...</td>\n",
       "      <td>0</td>\n",
       "      <td>0</td>\n",
       "      <td>0</td>\n",
       "      <td>0</td>\n",
       "      <td>0</td>\n",
       "      <td>0</td>\n",
       "      <td>0</td>\n",
       "      <td>0</td>\n",
       "      <td>1</td>\n",
       "      <td>0</td>\n",
       "    </tr>\n",
       "    <tr>\n",
       "      <th>1</th>\n",
       "      <td>0</td>\n",
       "      <td>0</td>\n",
       "      <td>0</td>\n",
       "      <td>0</td>\n",
       "      <td>0</td>\n",
       "      <td>1</td>\n",
       "      <td>0</td>\n",
       "      <td>1</td>\n",
       "      <td>0</td>\n",
       "      <td>1</td>\n",
       "      <td>...</td>\n",
       "      <td>0</td>\n",
       "      <td>0</td>\n",
       "      <td>0</td>\n",
       "      <td>0</td>\n",
       "      <td>0</td>\n",
       "      <td>0</td>\n",
       "      <td>0</td>\n",
       "      <td>0</td>\n",
       "      <td>0</td>\n",
       "      <td>1</td>\n",
       "    </tr>\n",
       "    <tr>\n",
       "      <th>2</th>\n",
       "      <td>0</td>\n",
       "      <td>0</td>\n",
       "      <td>0</td>\n",
       "      <td>0</td>\n",
       "      <td>0</td>\n",
       "      <td>1</td>\n",
       "      <td>0</td>\n",
       "      <td>1</td>\n",
       "      <td>0</td>\n",
       "      <td>1</td>\n",
       "      <td>...</td>\n",
       "      <td>0</td>\n",
       "      <td>0</td>\n",
       "      <td>0</td>\n",
       "      <td>0</td>\n",
       "      <td>0</td>\n",
       "      <td>0</td>\n",
       "      <td>1</td>\n",
       "      <td>1</td>\n",
       "      <td>0</td>\n",
       "      <td>0</td>\n",
       "    </tr>\n",
       "  </tbody>\n",
       "</table>\n",
       "<p>3 rows × 65 columns</p>\n",
       "</div>"
      ],
      "text/plain": [
       "   0  1  10  11  12  13  14  15  16  17 ...  59  6  60  61  62  63  64  7  8  \\\n",
       "0  1  0   0   0   0   1   0   1   0   1 ...   0  0   0   0   0   0   0  0  1   \n",
       "1  0  0   0   0   0   1   0   1   0   1 ...   0  0   0   0   0   0   0  0  0   \n",
       "2  0  0   0   0   0   1   0   1   0   1 ...   0  0   0   0   0   0   1  1  0   \n",
       "\n",
       "   9  \n",
       "0  0  \n",
       "1  1  \n",
       "2  0  \n",
       "\n",
       "[3 rows x 65 columns]"
      ]
     },
     "execution_count": 84,
     "metadata": {},
     "output_type": "execute_result"
    }
   ],
   "source": [
    "label_popularity = [image['labels'] for image in config['images']]\n",
    "label_popularity = pd.DataFrame(label_popularity)\n",
    "label_popularity.head(3)"
   ]
  },
  {
   "cell_type": "markdown",
   "metadata": {},
   "source": [
    "By simple `apply` calls, we can get the number of available objects per image, as well as the number of images in which each label is available."
   ]
  },
  {
   "cell_type": "code",
   "execution_count": 25,
   "metadata": {},
   "outputs": [],
   "source": [
    "image_count_per_label = label_popularity.apply(sum, axis=0)"
   ]
  },
  {
   "cell_type": "code",
   "execution_count": 27,
   "metadata": {},
   "outputs": [
    {
     "name": "stdout",
     "output_type": "stream",
     "text": [
      "The label 'Bird' is on 469 images.\n",
      "The image 0 contains 20 labels.\n"
     ]
    }
   ],
   "source": [
    "image_count_per_label = label_popularity.apply(sum, axis=0)\n",
    "image_count_per_label.index = image_count_per_label.index.astype(int)\n",
    "print(\"The label '{}' is on {} images.\".format(df_labels.loc[0, \"readable\"], image_count_per_label[0]))\n",
    "label_count_per_image = label_popularity.apply(sum, axis=1)\n",
    "print(\"The image {} contains {} labels.\".format(0, label_count_per_image[0]))"
   ]
  },
  {
   "cell_type": "markdown",
   "metadata": {},
   "source": [
    "As examples, we learn here that 469 images contains birds in the this preprocessed training dataset. And that over the 65 inventoried objects, the first image contains 20 of them.\n",
    "\n",
    "To generalize the point, we can detail these features and plot them as histograms."
   ]
  },
  {
   "cell_type": "code",
   "execution_count": 28,
   "metadata": {},
   "outputs": [
    {
     "name": "stdout",
     "output_type": "stream",
     "text": [
      "Number of images per label:\n",
      "count       65\n",
      "mean      5142\n",
      "std       5821\n",
      "min        104\n",
      "25%        590\n",
      "50%       2480\n",
      "75%       8367\n",
      "max      17752\n",
      "dtype: int64\n"
     ]
    }
   ],
   "source": [
    "print(\"Number of images per label:\\n{}\".format(image_count_per_label.describe().astype(int)))"
   ]
  },
  {
   "cell_type": "code",
   "execution_count": 29,
   "metadata": {},
   "outputs": [
    {
     "data": {
      "image/png": "[encoded data removed]",
      "text/plain": [
       "<Figure size 432x288 with 1 Axes>"
      ]
     },
     "metadata": {},
     "output_type": "display_data"
    }
   ],
   "source": [
    "image_count_hist = plt.hist(image_count_per_label,\n",
    "                            bins=range(0, 18000, 1000))\n",
    "xt = plt.xticks(range(0, 18000, 1000), rotation=90)\n",
    "yt = plt.yticks(range(0, 22, 3))"
   ]
  },
  {
   "cell_type": "markdown",
   "metadata": {},
   "source": [
    "Each label is on more than 5000 images on average, with large disparities, as depicted by the previous histogram. A wide range of label are rare, with less than 1000 appearances over 18000 images."
   ]
  },
  {
   "cell_type": "code",
   "execution_count": 30,
   "metadata": {},
   "outputs": [
    {
     "name": "stdout",
     "output_type": "stream",
     "text": [
      "Number of labels per image:\n",
      "count    18000\n",
      "mean        18\n",
      "std          4\n",
      "min          2\n",
      "25%         16\n",
      "50%         19\n",
      "75%         21\n",
      "max         33\n",
      "dtype: int64\n"
     ]
    }
   ],
   "source": [
    "print(\"Number of labels per image:\\n{}\".format(label_count_per_image.describe().astype(int)))"
   ]
  },
  {
   "cell_type": "code",
   "execution_count": 31,
   "metadata": {},
   "outputs": [
    {
     "data": {
      "image/png": "[encoded data removed]",
      "text/plain": [
       "<Figure size 432x288 with 1 Axes>"
      ]
     },
     "metadata": {},
     "output_type": "display_data"
    }
   ],
   "source": [
    "label_count_hist = plt.hist(label_count_per_image,\n",
    "                            bins=range(0, 66, 3))\n",
    "xt = plt.xticks(range(0, 66, 3), rotation=90)"
   ]
  },
  {
   "cell_type": "markdown",
   "metadata": {},
   "source": [
    "On the other hand, the images show a balanced distribution regarding the number of labels they contained. It seems to follow a Gaussian distribution, with 18 labels per image on average, and 4 labels of standard deviation."
   ]
  },
  {
   "cell_type": "markdown",
   "metadata": {},
   "source": [
    "Regarding the number of images per label, we can see that 21 objects (almost a third) are represented less than 1000 times. It may be a problem for the trained model to detect them, as they are rare. Others labels are well spread regarding the number of example images; although we have to note that some label are almost always present on the images. The ideal situation would have been to have each label on 50% of the images within the dataset..."
   ]
  },
  {
   "cell_type": "code",
   "execution_count": 32,
   "metadata": {},
   "outputs": [],
   "source": [
    "df_labels['nb_images'] = image_count_per_label"
   ]
  },
  {
   "cell_type": "code",
   "execution_count": 33,
   "metadata": {},
   "outputs": [
    {
     "data": {
      "image/png": "[encoded data removed]",
      "text/plain": [
       "<Figure size 1152x576 with 8 Axes>"
      ]
     },
     "metadata": {},
     "output_type": "display_data"
    }
   ],
   "source": [
    "hist_palette = sns.color_palette(\"Set1\", n_colors=8, desat=.5)\n",
    "f, ax = plt.subplots(2, 4, figsize=(16, 8))\n",
    "ax[0][0].hist(df_labels['nb_images'],\n",
    "              bins=range(0, 18000, 1000),\n",
    "              color=hist_palette[0])\n",
    "ax[0][0].set_yticks(range(0, 22, 3))\n",
    "for i, category in enumerate(df_labels['family'].unique()):\n",
    "    data = df_labels.query(\"family==@category\")['nb_images']\n",
    "    ax[int((i+1)/4)][(i+1)%4].hist(data,\n",
    "                                   bins=range(0, 18000, 1000),\n",
    "                                   color=hist_palette[i+1])\n",
    "    ax[int((i+1)/4)][(i+1)%4].set_yticks(range(0, 22, 2))\n",
    "    ax[int((i+1)/4)][(i+1)%4].text(6000, 12, category, size=14, fontweight='bold')"
   ]
  },
  {
   "cell_type": "markdown",
   "metadata": {},
   "source": [
    "By going into label detail, it is obvious for street-scene images to remark that almost every images contain `sky`, `road`, or `car`."
   ]
  },
  {
   "cell_type": "code",
   "execution_count": 34,
   "metadata": {},
   "outputs": [
    {
     "data": {
      "text/html": [
       "<div>\n",
       "<style scoped>\n",
       "    .dataframe tbody tr th:only-of-type {\n",
       "        vertical-align: middle;\n",
       "    }\n",
       "\n",
       "    .dataframe tbody tr th {\n",
       "        vertical-align: top;\n",
       "    }\n",
       "\n",
       "    .dataframe thead th {\n",
       "        text-align: right;\n",
       "    }\n",
       "</style>\n",
       "<table border=\"1\" class=\"dataframe\">\n",
       "  <thead>\n",
       "    <tr style=\"text-align: right;\">\n",
       "      <th></th>\n",
       "      <th>readable</th>\n",
       "      <th>nb_images</th>\n",
       "    </tr>\n",
       "  </thead>\n",
       "  <tbody>\n",
       "    <tr>\n",
       "      <th>13</th>\n",
       "      <td>Road</td>\n",
       "      <td>17752</td>\n",
       "    </tr>\n",
       "    <tr>\n",
       "      <th>27</th>\n",
       "      <td>Sky</td>\n",
       "      <td>17719</td>\n",
       "    </tr>\n",
       "    <tr>\n",
       "      <th>45</th>\n",
       "      <td>Pole</td>\n",
       "      <td>17562</td>\n",
       "    </tr>\n",
       "    <tr>\n",
       "      <th>30</th>\n",
       "      <td>Vegetation</td>\n",
       "      <td>17381</td>\n",
       "    </tr>\n",
       "    <tr>\n",
       "      <th>55</th>\n",
       "      <td>Car</td>\n",
       "      <td>16541</td>\n",
       "    </tr>\n",
       "    <tr>\n",
       "      <th>17</th>\n",
       "      <td>Building</td>\n",
       "      <td>16224</td>\n",
       "    </tr>\n",
       "  </tbody>\n",
       "</table>\n",
       "</div>"
      ],
      "text/plain": [
       "      readable  nb_images\n",
       "13        Road      17752\n",
       "27         Sky      17719\n",
       "45        Pole      17562\n",
       "30  Vegetation      17381\n",
       "55         Car      16541\n",
       "17    Building      16224"
      ]
     },
     "execution_count": 34,
     "metadata": {},
     "output_type": "execute_result"
    }
   ],
   "source": [
    "df_labels.sort_values(\"nb_images\", ascending=False)[['readable', 'nb_images']].head(6)"
   ]
  },
  {
   "cell_type": "markdown",
   "metadata": {},
   "source": [
    "On the other hand, rare objects within the dataset are mostly unusual vehicles like `caravan`, `boat` or `trailer`. It can also be unusual infrastructure like `tunnel`, or typical nature elements (`sand`) that denote a specific geographical localization."
   ]
  },
  {
   "cell_type": "code",
   "execution_count": 35,
   "metadata": {},
   "outputs": [
    {
     "data": {
      "text/html": [
       "<div>\n",
       "<style scoped>\n",
       "    .dataframe tbody tr th:only-of-type {\n",
       "        vertical-align: middle;\n",
       "    }\n",
       "\n",
       "    .dataframe tbody tr th {\n",
       "        vertical-align: top;\n",
       "    }\n",
       "\n",
       "    .dataframe thead th {\n",
       "        text-align: right;\n",
       "    }\n",
       "</style>\n",
       "<table border=\"1\" class=\"dataframe\">\n",
       "  <thead>\n",
       "    <tr style=\"text-align: right;\">\n",
       "      <th></th>\n",
       "      <th>readable</th>\n",
       "      <th>nb_images</th>\n",
       "    </tr>\n",
       "  </thead>\n",
       "  <tbody>\n",
       "    <tr>\n",
       "      <th>56</th>\n",
       "      <td>Caravan</td>\n",
       "      <td>104</td>\n",
       "    </tr>\n",
       "    <tr>\n",
       "      <th>53</th>\n",
       "      <td>Boat</td>\n",
       "      <td>115</td>\n",
       "    </tr>\n",
       "    <tr>\n",
       "      <th>26</th>\n",
       "      <td>Sand</td>\n",
       "      <td>126</td>\n",
       "    </tr>\n",
       "    <tr>\n",
       "      <th>22</th>\n",
       "      <td>Other Rider</td>\n",
       "      <td>170</td>\n",
       "    </tr>\n",
       "    <tr>\n",
       "      <th>60</th>\n",
       "      <td>Trailer</td>\n",
       "      <td>181</td>\n",
       "    </tr>\n",
       "    <tr>\n",
       "      <th>18</th>\n",
       "      <td>Tunnel</td>\n",
       "      <td>201</td>\n",
       "    </tr>\n",
       "  </tbody>\n",
       "</table>\n",
       "</div>"
      ],
      "text/plain": [
       "       readable  nb_images\n",
       "56      Caravan        104\n",
       "53         Boat        115\n",
       "26         Sand        126\n",
       "22  Other Rider        170\n",
       "60      Trailer        181\n",
       "18       Tunnel        201"
      ]
     },
     "execution_count": 35,
     "metadata": {},
     "output_type": "execute_result"
    }
   ],
   "source": [
    "df_labels.sort_values(\"nb_images\", ascending=True)[['readable', 'nb_images']].head(6)"
   ]
  },
  {
   "cell_type": "markdown",
   "metadata": {},
   "source": [
    "As another interesting visualization, we can plot the number of images in which each label does appear, by highlighting object types. We then know that there are almost always `road`, `building`, `sky`, `vegetation`, `pole` or `car` labels on the pictures. Maybe these elements should be discarded from the analyse to improve the model interest. However keeping them is also a good challenge: we have to design a model able to distinguish when these object types are NOT on the image.\n",
    "\n",
    "At the opposite, `animal`, `parking`, `tunnel` labels (and so on...) are rare objects, and the big challenge will be to detect their presence."
   ]
  },
  {
   "cell_type": "code",
   "execution_count": 36,
   "metadata": {},
   "outputs": [
    {
     "data": {
      "image/png": "[encoded data removed]",
      "text/plain": [
       "<Figure size 1152x432 with 1 Axes>"
      ]
     },
     "metadata": {},
     "output_type": "display_data"
    }
   ],
   "source": [
    "f = plt.figure(figsize=(16, 6))\n",
    "image_per_label_plot = sns.barplot(df_labels['readable'],\n",
    "                                   df_labels['nb_images'],\n",
    "                                   hue=df_labels['family'],\n",
    "                                   palette=\"Set1\")\n",
    "plt.ylabel(\"Number of images\")\n",
    "plt.setp(image_per_label_plot.get_xticklabels(), rotation=80)\n",
    "plt.show()"
   ]
  },
  {
   "cell_type": "markdown",
   "metadata": {},
   "source": [
    "## Label association"
   ]
  },
  {
   "cell_type": "markdown",
   "metadata": {},
   "source": [
    "To go further into the label analysis, we can investigate on the associations between labels: which ones come always together? We use the frequent item mining framework to address this question."
   ]
  },
  {
   "cell_type": "code",
   "execution_count": 37,
   "metadata": {},
   "outputs": [],
   "source": [
    "import fim"
   ]
  },
  {
   "cell_type": "markdown",
   "metadata": {},
   "source": [
    "First, we build the frequent item mining transactions, *i.e.* the list of encountered labels in each images.\n",
    "\n",
    "In order to do this, we need to sort `label_popularity` columns:"
   ]
  },
  {
   "cell_type": "code",
   "execution_count": 91,
   "metadata": {},
   "outputs": [
    {
     "name": "stdout",
     "output_type": "stream",
     "text": [
      "    17994  17995  17996  17997  17998  17999\n",
      "0       0      0      0      0      0      0\n",
      "1       0      0      0      1      0      0\n",
      "10      0      1      0      0      1      0\n",
      "11      0      0      0      0      0      0\n",
      "Index(['64', '7', '8', '9'], dtype='object')\n",
      "    17994  17995  17996  17997  17998  17999\n",
      "0       0      0      0      0      0      0\n",
      "1       0      0      0      1      0      0\n",
      "10      0      1      0      0      1      0\n",
      "11      0      0      0      0      0      0\n",
      "Int64Index([64, 7, 8, 9], dtype='int64')\n",
      "   17994  17995  17996  17997  17998  17999\n",
      "0      0      0      0      0      0      0\n",
      "1      0      0      0      1      0      0\n",
      "2      0      1      1      1      1      1\n",
      "3      1      1      0      1      0      1\n",
      "Int64Index([61, 62, 63, 64], dtype='int64')\n",
      "   59  60  61  62  63  64\n",
      "0   0   0   0   0   0   0\n",
      "1   0   0   0   0   0   0\n",
      "2   0   0   0   0   0   1\n",
      "3   0   0   0   0   0   0\n",
      "RangeIndex(start=17996, stop=18000, step=1)\n"
     ]
    }
   ],
   "source": [
    "label_popularity = label_popularity.T\n",
    "label_popularity.index = label_popularity.index.astype(int)\n",
    "label_popularity = label_popularity.sort_index().T"
   ]
  },
  {
   "cell_type": "code",
   "execution_count": 92,
   "metadata": {},
   "outputs": [],
   "source": [
    "transactions = []\n",
    "for i, lab in label_popularity.iterrows():\n",
    "    transactions.append(list(itertools.compress(range(len(label_popularity)), lab==1)))"
   ]
  },
  {
   "cell_type": "markdown",
   "metadata": {},
   "source": [
    "Then we compute the rules over these transactions, *i.e.* the frequent associations between different labels. The two seminal parameters are the minimal support (probability of intersect(X, Y)) and the minimal confidence (probability of Y knowing X)."
   ]
  },
  {
   "cell_type": "code",
   "execution_count": 101,
   "metadata": {},
   "outputs": [
    {
     "data": {
      "text/plain": [
       "(9143130, 7)"
      ]
     },
     "execution_count": 101,
     "metadata": {},
     "output_type": "execute_result"
    }
   ],
   "source": [
    "rules = fim.arules(transactions, supp=5, conf=90, report=\"abhCl\", eval=\"l\", thresh=1)\n",
    "rules = pd.DataFrame(rules, columns=[\"head\", \"body\", \"item_set_support\", \"body_support\", \"head_support\", \"confidence\", \"lift\"])\n",
    "rules.shape"
   ]
  },
  {
   "cell_type": "code",
   "execution_count": 102,
   "metadata": {},
   "outputs": [
    {
     "data": {
      "text/html": [
       "<div>\n",
       "<style scoped>\n",
       "    .dataframe tbody tr th:only-of-type {\n",
       "        vertical-align: middle;\n",
       "    }\n",
       "\n",
       "    .dataframe tbody tr th {\n",
       "        vertical-align: top;\n",
       "    }\n",
       "\n",
       "    .dataframe thead th {\n",
       "        text-align: right;\n",
       "    }\n",
       "</style>\n",
       "<table border=\"1\" class=\"dataframe\">\n",
       "  <thead>\n",
       "    <tr style=\"text-align: right;\">\n",
       "      <th></th>\n",
       "      <th>head</th>\n",
       "      <th>body</th>\n",
       "      <th>item_set_support</th>\n",
       "      <th>body_support</th>\n",
       "      <th>head_support</th>\n",
       "      <th>confidence</th>\n",
       "      <th>lift</th>\n",
       "    </tr>\n",
       "  </thead>\n",
       "  <tbody>\n",
       "    <tr>\n",
       "      <th>0</th>\n",
       "      <td>13</td>\n",
       "      <td>()</td>\n",
       "      <td>17752</td>\n",
       "      <td>18000</td>\n",
       "      <td>17752</td>\n",
       "      <td>98.622222</td>\n",
       "      <td>1.000000</td>\n",
       "    </tr>\n",
       "    <tr>\n",
       "      <th>1</th>\n",
       "      <td>13</td>\n",
       "      <td>(27,)</td>\n",
       "      <td>17486</td>\n",
       "      <td>17719</td>\n",
       "      <td>17752</td>\n",
       "      <td>98.685027</td>\n",
       "      <td>1.000637</td>\n",
       "    </tr>\n",
       "    <tr>\n",
       "      <th>2</th>\n",
       "      <td>27</td>\n",
       "      <td>(13,)</td>\n",
       "      <td>17486</td>\n",
       "      <td>17752</td>\n",
       "      <td>17719</td>\n",
       "      <td>98.501577</td>\n",
       "      <td>1.000637</td>\n",
       "    </tr>\n",
       "    <tr>\n",
       "      <th>3</th>\n",
       "      <td>27</td>\n",
       "      <td>()</td>\n",
       "      <td>17719</td>\n",
       "      <td>18000</td>\n",
       "      <td>17719</td>\n",
       "      <td>98.438889</td>\n",
       "      <td>1.000000</td>\n",
       "    </tr>\n",
       "    <tr>\n",
       "      <th>4</th>\n",
       "      <td>13</td>\n",
       "      <td>(45,)</td>\n",
       "      <td>17348</td>\n",
       "      <td>17562</td>\n",
       "      <td>17752</td>\n",
       "      <td>98.781460</td>\n",
       "      <td>1.001615</td>\n",
       "    </tr>\n",
       "    <tr>\n",
       "      <th>5</th>\n",
       "      <td>45</td>\n",
       "      <td>(13,)</td>\n",
       "      <td>17348</td>\n",
       "      <td>17752</td>\n",
       "      <td>17562</td>\n",
       "      <td>97.724200</td>\n",
       "      <td>1.001615</td>\n",
       "    </tr>\n",
       "    <tr>\n",
       "      <th>6</th>\n",
       "      <td>13</td>\n",
       "      <td>(45, 27)</td>\n",
       "      <td>17106</td>\n",
       "      <td>17307</td>\n",
       "      <td>17752</td>\n",
       "      <td>98.838620</td>\n",
       "      <td>1.002194</td>\n",
       "    </tr>\n",
       "    <tr>\n",
       "      <th>7</th>\n",
       "      <td>27</td>\n",
       "      <td>(45, 13)</td>\n",
       "      <td>17106</td>\n",
       "      <td>17348</td>\n",
       "      <td>17719</td>\n",
       "      <td>98.605027</td>\n",
       "      <td>1.001688</td>\n",
       "    </tr>\n",
       "    <tr>\n",
       "      <th>8</th>\n",
       "      <td>45</td>\n",
       "      <td>(27, 13)</td>\n",
       "      <td>17106</td>\n",
       "      <td>17486</td>\n",
       "      <td>17562</td>\n",
       "      <td>97.826833</td>\n",
       "      <td>1.002667</td>\n",
       "    </tr>\n",
       "    <tr>\n",
       "      <th>9</th>\n",
       "      <td>27</td>\n",
       "      <td>(45,)</td>\n",
       "      <td>17307</td>\n",
       "      <td>17562</td>\n",
       "      <td>17719</td>\n",
       "      <td>98.548001</td>\n",
       "      <td>1.001108</td>\n",
       "    </tr>\n",
       "  </tbody>\n",
       "</table>\n",
       "</div>"
      ],
      "text/plain": [
       "   head      body  item_set_support  body_support  head_support  confidence  \\\n",
       "0    13        ()             17752         18000         17752   98.622222   \n",
       "1    13     (27,)             17486         17719         17752   98.685027   \n",
       "2    27     (13,)             17486         17752         17719   98.501577   \n",
       "3    27        ()             17719         18000         17719   98.438889   \n",
       "4    13     (45,)             17348         17562         17752   98.781460   \n",
       "5    45     (13,)             17348         17752         17562   97.724200   \n",
       "6    13  (45, 27)             17106         17307         17752   98.838620   \n",
       "7    27  (45, 13)             17106         17348         17719   98.605027   \n",
       "8    45  (27, 13)             17106         17486         17562   97.826833   \n",
       "9    27     (45,)             17307         17562         17719   98.548001   \n",
       "\n",
       "       lift  \n",
       "0  1.000000  \n",
       "1  1.000637  \n",
       "2  1.000637  \n",
       "3  1.000000  \n",
       "4  1.001615  \n",
       "5  1.001615  \n",
       "6  1.002194  \n",
       "7  1.001688  \n",
       "8  1.002667  \n",
       "9  1.001108  "
      ]
     },
     "execution_count": 102,
     "metadata": {},
     "output_type": "execute_result"
    }
   ],
   "source": [
    "rules.head(10)"
   ]
  },
  {
   "cell_type": "markdown",
   "metadata": {},
   "source": [
    "It seems that most important rules come from most popular labels (that's make sense!), *i.e.* `road` (13), `sky` (27) or `pole` (45). But it can be more interesting to sort these rules considering the lift (how many times the probability of Y is bigger when X is on the picture?):"
   ]
  },
  {
   "cell_type": "code",
   "execution_count": 106,
   "metadata": {},
   "outputs": [
    {
     "data": {
      "text/html": [
       "<div>\n",
       "<style scoped>\n",
       "    .dataframe tbody tr th:only-of-type {\n",
       "        vertical-align: middle;\n",
       "    }\n",
       "\n",
       "    .dataframe tbody tr th {\n",
       "        vertical-align: top;\n",
       "    }\n",
       "\n",
       "    .dataframe thead th {\n",
       "        text-align: right;\n",
       "    }\n",
       "</style>\n",
       "<table border=\"1\" class=\"dataframe\">\n",
       "  <thead>\n",
       "    <tr style=\"text-align: right;\">\n",
       "      <th></th>\n",
       "      <th>head</th>\n",
       "      <th>body</th>\n",
       "      <th>item_set_support</th>\n",
       "      <th>body_support</th>\n",
       "      <th>head_support</th>\n",
       "      <th>confidence</th>\n",
       "      <th>lift</th>\n",
       "    </tr>\n",
       "  </thead>\n",
       "  <tbody>\n",
       "    <tr>\n",
       "      <th>9105591</th>\n",
       "      <td>57</td>\n",
       "      <td>(21, 19, 35, 55, 30)</td>\n",
       "      <td>857</td>\n",
       "      <td>910</td>\n",
       "      <td>2390</td>\n",
       "      <td>94.175824</td>\n",
       "      <td>7.092740</td>\n",
       "    </tr>\n",
       "    <tr>\n",
       "      <th>9105585</th>\n",
       "      <td>57</td>\n",
       "      <td>(21, 19, 35, 55, 30, 13)</td>\n",
       "      <td>855</td>\n",
       "      <td>908</td>\n",
       "      <td>2390</td>\n",
       "      <td>94.162996</td>\n",
       "      <td>7.091774</td>\n",
       "    </tr>\n",
       "    <tr>\n",
       "      <th>9105577</th>\n",
       "      <td>57</td>\n",
       "      <td>(21, 19, 35, 30)</td>\n",
       "      <td>871</td>\n",
       "      <td>925</td>\n",
       "      <td>2390</td>\n",
       "      <td>94.162162</td>\n",
       "      <td>7.091711</td>\n",
       "    </tr>\n",
       "    <tr>\n",
       "      <th>9105587</th>\n",
       "      <td>57</td>\n",
       "      <td>(21, 19, 35, 55, 30, 27)</td>\n",
       "      <td>853</td>\n",
       "      <td>906</td>\n",
       "      <td>2390</td>\n",
       "      <td>94.150110</td>\n",
       "      <td>7.090803</td>\n",
       "    </tr>\n",
       "    <tr>\n",
       "      <th>9105590</th>\n",
       "      <td>57</td>\n",
       "      <td>(21, 19, 35, 55, 30, 45)</td>\n",
       "      <td>852</td>\n",
       "      <td>905</td>\n",
       "      <td>2390</td>\n",
       "      <td>94.143646</td>\n",
       "      <td>7.090316</td>\n",
       "    </tr>\n",
       "  </tbody>\n",
       "</table>\n",
       "</div>"
      ],
      "text/plain": [
       "         head                      body  item_set_support  body_support  \\\n",
       "9105591    57      (21, 19, 35, 55, 30)               857           910   \n",
       "9105585    57  (21, 19, 35, 55, 30, 13)               855           908   \n",
       "9105577    57          (21, 19, 35, 30)               871           925   \n",
       "9105587    57  (21, 19, 35, 55, 30, 27)               853           906   \n",
       "9105590    57  (21, 19, 35, 55, 30, 45)               852           905   \n",
       "\n",
       "         head_support  confidence      lift  \n",
       "9105591          2390   94.175824  7.092740  \n",
       "9105585          2390   94.162996  7.091774  \n",
       "9105577          2390   94.162162  7.091711  \n",
       "9105587          2390   94.150110  7.090803  \n",
       "9105590          2390   94.143646  7.090316  "
      ]
     },
     "execution_count": 106,
     "metadata": {},
     "output_type": "execute_result"
    }
   ],
   "source": [
    "sorted_rules = rules.sort_values('lift', ascending=False)\n",
    "sorted_rules.head(5)"
   ]
  },
  {
   "cell_type": "markdown",
   "metadata": {},
   "source": [
    "We then can conclude that label n°57 (`motorcycle`) is very sensitive to the apparition of other labels, like label 21 (`motorcyclist`, you bet!), 19 (`person`), 35 (`billboard`) or 30 (`vegetation`)."
   ]
  },
  {
   "cell_type": "code",
   "execution_count": 107,
   "metadata": {},
   "outputs": [
    {
     "data": {
      "text/html": [
       "<div>\n",
       "<style scoped>\n",
       "    .dataframe tbody tr th:only-of-type {\n",
       "        vertical-align: middle;\n",
       "    }\n",
       "\n",
       "    .dataframe tbody tr th {\n",
       "        vertical-align: top;\n",
       "    }\n",
       "\n",
       "    .dataframe thead th {\n",
       "        text-align: right;\n",
       "    }\n",
       "</style>\n",
       "<table border=\"1\" class=\"dataframe\">\n",
       "  <thead>\n",
       "    <tr style=\"text-align: right;\">\n",
       "      <th></th>\n",
       "      <th>body</th>\n",
       "      <th>item_set_support</th>\n",
       "      <th>body_support</th>\n",
       "      <th>head_support</th>\n",
       "      <th>confidence</th>\n",
       "      <th>lift</th>\n",
       "    </tr>\n",
       "    <tr>\n",
       "      <th>head</th>\n",
       "      <th></th>\n",
       "      <th></th>\n",
       "      <th></th>\n",
       "      <th></th>\n",
       "      <th></th>\n",
       "      <th></th>\n",
       "    </tr>\n",
       "  </thead>\n",
       "  <tbody>\n",
       "    <tr>\n",
       "      <th>2</th>\n",
       "      <td>(6, 9, 3, 49, 15, 44, 50)</td>\n",
       "      <td>1476</td>\n",
       "      <td>1476</td>\n",
       "      <td>14914</td>\n",
       "      <td>100.000000</td>\n",
       "      <td>1.206920</td>\n",
       "    </tr>\n",
       "    <tr>\n",
       "      <th>13</th>\n",
       "      <td>(6, 9, 47, 3, 15, 24, 17, 55, 30, 27)</td>\n",
       "      <td>1172</td>\n",
       "      <td>1172</td>\n",
       "      <td>17752</td>\n",
       "      <td>100.000000</td>\n",
       "      <td>1.013970</td>\n",
       "    </tr>\n",
       "    <tr>\n",
       "      <th>15</th>\n",
       "      <td>(41, 9, 48, 49, 35, 44, 55, 30, 45, 13)</td>\n",
       "      <td>905</td>\n",
       "      <td>909</td>\n",
       "      <td>12823</td>\n",
       "      <td>99.559956</td>\n",
       "      <td>1.397551</td>\n",
       "    </tr>\n",
       "    <tr>\n",
       "      <th>17</th>\n",
       "      <td>(51, 19, 48, 35, 2, 24, 55, 30, 27, 13)</td>\n",
       "      <td>1232</td>\n",
       "      <td>1232</td>\n",
       "      <td>16224</td>\n",
       "      <td>100.000000</td>\n",
       "      <td>1.109467</td>\n",
       "    </tr>\n",
       "    <tr>\n",
       "      <th>24</th>\n",
       "      <td>(14,)</td>\n",
       "      <td>1145</td>\n",
       "      <td>1145</td>\n",
       "      <td>15755</td>\n",
       "      <td>100.000000</td>\n",
       "      <td>1.142494</td>\n",
       "    </tr>\n",
       "    <tr>\n",
       "      <th>27</th>\n",
       "      <td>(32, 6, 2, 50, 17, 55, 30, 45, 13)</td>\n",
       "      <td>1057</td>\n",
       "      <td>1057</td>\n",
       "      <td>17719</td>\n",
       "      <td>100.000000</td>\n",
       "      <td>1.015859</td>\n",
       "    </tr>\n",
       "    <tr>\n",
       "      <th>30</th>\n",
       "      <td>(29, 47, 48, 3, 35, 2, 44, 24, 50, 45, 13)</td>\n",
       "      <td>950</td>\n",
       "      <td>950</td>\n",
       "      <td>17381</td>\n",
       "      <td>100.000000</td>\n",
       "      <td>1.035614</td>\n",
       "    </tr>\n",
       "    <tr>\n",
       "      <th>35</th>\n",
       "      <td>(32, 9, 19, 24, 50, 55)</td>\n",
       "      <td>857</td>\n",
       "      <td>900</td>\n",
       "      <td>12334</td>\n",
       "      <td>95.222222</td>\n",
       "      <td>1.389655</td>\n",
       "    </tr>\n",
       "    <tr>\n",
       "      <th>44</th>\n",
       "      <td>(54, 19, 48, 35, 15, 50, 30, 45, 27, 13)</td>\n",
       "      <td>941</td>\n",
       "      <td>953</td>\n",
       "      <td>15301</td>\n",
       "      <td>98.740818</td>\n",
       "      <td>1.161581</td>\n",
       "    </tr>\n",
       "    <tr>\n",
       "      <th>45</th>\n",
       "      <td>(41, 19, 48, 49, 35, 2, 50, 17, 55, 27)</td>\n",
       "      <td>964</td>\n",
       "      <td>964</td>\n",
       "      <td>17562</td>\n",
       "      <td>100.000000</td>\n",
       "      <td>1.024940</td>\n",
       "    </tr>\n",
       "    <tr>\n",
       "      <th>48</th>\n",
       "      <td>(8, 49, 35, 15, 44, 24, 50, 30, 45, 27)</td>\n",
       "      <td>975</td>\n",
       "      <td>1038</td>\n",
       "      <td>8860</td>\n",
       "      <td>93.930636</td>\n",
       "      <td>1.908297</td>\n",
       "    </tr>\n",
       "    <tr>\n",
       "      <th>50</th>\n",
       "      <td>(64, 48, 3, 49, 35, 24)</td>\n",
       "      <td>910</td>\n",
       "      <td>916</td>\n",
       "      <td>15934</td>\n",
       "      <td>99.344978</td>\n",
       "      <td>1.122260</td>\n",
       "    </tr>\n",
       "    <tr>\n",
       "      <th>52</th>\n",
       "      <td>(20, 19, 15, 2, 24, 50, 17, 30, 27)</td>\n",
       "      <td>867</td>\n",
       "      <td>928</td>\n",
       "      <td>2511</td>\n",
       "      <td>93.426724</td>\n",
       "      <td>6.697256</td>\n",
       "    </tr>\n",
       "    <tr>\n",
       "      <th>55</th>\n",
       "      <td>(61, 47, 35, 15, 44, 50)</td>\n",
       "      <td>907</td>\n",
       "      <td>910</td>\n",
       "      <td>16541</td>\n",
       "      <td>99.670330</td>\n",
       "      <td>1.084618</td>\n",
       "    </tr>\n",
       "    <tr>\n",
       "      <th>57</th>\n",
       "      <td>(21, 19, 35, 55, 30)</td>\n",
       "      <td>857</td>\n",
       "      <td>910</td>\n",
       "      <td>2390</td>\n",
       "      <td>94.175824</td>\n",
       "      <td>7.092740</td>\n",
       "    </tr>\n",
       "  </tbody>\n",
       "</table>\n",
       "</div>"
      ],
      "text/plain": [
       "                                            body  item_set_support  \\\n",
       "head                                                                 \n",
       "2                      (6, 9, 3, 49, 15, 44, 50)              1476   \n",
       "13         (6, 9, 47, 3, 15, 24, 17, 55, 30, 27)              1172   \n",
       "15       (41, 9, 48, 49, 35, 44, 55, 30, 45, 13)               905   \n",
       "17       (51, 19, 48, 35, 2, 24, 55, 30, 27, 13)              1232   \n",
       "24                                         (14,)              1145   \n",
       "27            (32, 6, 2, 50, 17, 55, 30, 45, 13)              1057   \n",
       "30    (29, 47, 48, 3, 35, 2, 44, 24, 50, 45, 13)               950   \n",
       "35                       (32, 9, 19, 24, 50, 55)               857   \n",
       "44      (54, 19, 48, 35, 15, 50, 30, 45, 27, 13)               941   \n",
       "45       (41, 19, 48, 49, 35, 2, 50, 17, 55, 27)               964   \n",
       "48       (8, 49, 35, 15, 44, 24, 50, 30, 45, 27)               975   \n",
       "50                       (64, 48, 3, 49, 35, 24)               910   \n",
       "52           (20, 19, 15, 2, 24, 50, 17, 30, 27)               867   \n",
       "55                      (61, 47, 35, 15, 44, 50)               907   \n",
       "57                          (21, 19, 35, 55, 30)               857   \n",
       "\n",
       "      body_support  head_support  confidence      lift  \n",
       "head                                                    \n",
       "2             1476         14914  100.000000  1.206920  \n",
       "13            1172         17752  100.000000  1.013970  \n",
       "15             909         12823   99.559956  1.397551  \n",
       "17            1232         16224  100.000000  1.109467  \n",
       "24            1145         15755  100.000000  1.142494  \n",
       "27            1057         17719  100.000000  1.015859  \n",
       "30             950         17381  100.000000  1.035614  \n",
       "35             900         12334   95.222222  1.389655  \n",
       "44             953         15301   98.740818  1.161581  \n",
       "45             964         17562  100.000000  1.024940  \n",
       "48            1038          8860   93.930636  1.908297  \n",
       "50             916         15934   99.344978  1.122260  \n",
       "52             928          2511   93.426724  6.697256  \n",
       "55             910         16541   99.670330  1.084618  \n",
       "57             910          2390   94.175824  7.092740  "
      ]
     },
     "execution_count": 107,
     "metadata": {},
     "output_type": "execute_result"
    }
   ],
   "source": [
    "sorted_rules.groupby('head').first()"
   ]
  },
  {
   "cell_type": "markdown",
   "metadata": {},
   "source": [
    "By considering the most strong rule for each label, we can see that `bicycle` (20) are more probable when they are `bicyclists` (52) (wow, nice algorithm...!). The other rules seems less interesting, as the lift values are smaller (less than 1.3, that means that the probability of having the considered labels is at most 30% larger if the set of explaining labels are gathered).\n",
    "\n",
    "Finally, we can end this analysis by determining the number of rules for each labels. We understand that the rules that correspond to the support and confidence criteria are focused on most popular labels."
   ]
  },
  {
   "cell_type": "code",
   "execution_count": 117,
   "metadata": {},
   "outputs": [
    {
     "data": {
      "text/html": [
       "<div>\n",
       "<style scoped>\n",
       "    .dataframe tbody tr th:only-of-type {\n",
       "        vertical-align: middle;\n",
       "    }\n",
       "\n",
       "    .dataframe tbody tr th {\n",
       "        vertical-align: top;\n",
       "    }\n",
       "\n",
       "    .dataframe thead th {\n",
       "        text-align: right;\n",
       "    }\n",
       "</style>\n",
       "<table border=\"1\" class=\"dataframe\">\n",
       "  <thead>\n",
       "    <tr style=\"text-align: right;\">\n",
       "      <th></th>\n",
       "      <th>readable</th>\n",
       "      <th>nb_rules</th>\n",
       "    </tr>\n",
       "  </thead>\n",
       "  <tbody>\n",
       "    <tr>\n",
       "      <th>2</th>\n",
       "      <td>Curb</td>\n",
       "      <td>809205</td>\n",
       "    </tr>\n",
       "    <tr>\n",
       "      <th>13</th>\n",
       "      <td>Road</td>\n",
       "      <td>831008</td>\n",
       "    </tr>\n",
       "    <tr>\n",
       "      <th>15</th>\n",
       "      <td>Sidewalk</td>\n",
       "      <td>657441</td>\n",
       "    </tr>\n",
       "    <tr>\n",
       "      <th>17</th>\n",
       "      <td>Building</td>\n",
       "      <td>835609</td>\n",
       "    </tr>\n",
       "    <tr>\n",
       "      <th>24</th>\n",
       "      <td>Lane Marking - General</td>\n",
       "      <td>843151</td>\n",
       "    </tr>\n",
       "    <tr>\n",
       "      <th>27</th>\n",
       "      <td>Sky</td>\n",
       "      <td>836511</td>\n",
       "    </tr>\n",
       "    <tr>\n",
       "      <th>30</th>\n",
       "      <td>Vegetation</td>\n",
       "      <td>844804</td>\n",
       "    </tr>\n",
       "    <tr>\n",
       "      <th>35</th>\n",
       "      <td>Billboard</td>\n",
       "      <td>63564</td>\n",
       "    </tr>\n",
       "    <tr>\n",
       "      <th>44</th>\n",
       "      <td>Street Light</td>\n",
       "      <td>847374</td>\n",
       "    </tr>\n",
       "    <tr>\n",
       "      <th>45</th>\n",
       "      <td>Pole</td>\n",
       "      <td>831789</td>\n",
       "    </tr>\n",
       "    <tr>\n",
       "      <th>48</th>\n",
       "      <td>Traffic Light</td>\n",
       "      <td>21280</td>\n",
       "    </tr>\n",
       "    <tr>\n",
       "      <th>50</th>\n",
       "      <td>Traffic Sign (Front)</td>\n",
       "      <td>854096</td>\n",
       "    </tr>\n",
       "    <tr>\n",
       "      <th>52</th>\n",
       "      <td>Bicycle</td>\n",
       "      <td>9714</td>\n",
       "    </tr>\n",
       "    <tr>\n",
       "      <th>55</th>\n",
       "      <td>Car</td>\n",
       "      <td>853291</td>\n",
       "    </tr>\n",
       "    <tr>\n",
       "      <th>57</th>\n",
       "      <td>Motorcycle</td>\n",
       "      <td>4293</td>\n",
       "    </tr>\n",
       "  </tbody>\n",
       "</table>\n",
       "</div>"
      ],
      "text/plain": [
       "                  readable  nb_rules\n",
       "2                     Curb    809205\n",
       "13                    Road    831008\n",
       "15                Sidewalk    657441\n",
       "17                Building    835609\n",
       "24  Lane Marking - General    843151\n",
       "27                     Sky    836511\n",
       "30              Vegetation    844804\n",
       "35               Billboard     63564\n",
       "44            Street Light    847374\n",
       "45                    Pole    831789\n",
       "48           Traffic Light     21280\n",
       "50    Traffic Sign (Front)    854096\n",
       "52                 Bicycle      9714\n",
       "55                     Car    853291\n",
       "57              Motorcycle      4293"
      ]
     },
     "execution_count": 117,
     "metadata": {},
     "output_type": "execute_result"
    }
   ],
   "source": [
    "df_labels['nb_rules'] = [len(rules.query(\"head==@i\")) for i in range(df_labels.shape[0])]\n",
    "df_labels.loc[df_labels['nb_rules']>0, [\"readable\", \"nb_rules\"]]"
   ]
  }
 ],
 "metadata": {
  "kernelspec": {
   "display_name": "Python 3",
   "language": "python",
   "name": "python3"
  },
  "language_info": {
   "codemirror_mode": {
    "name": "ipython",
    "version": 3
   },
   "file_extension": ".py",
   "mimetype": "text/x-python",
   "name": "python",
   "nbconvert_exporter": "python",
   "pygments_lexer": "ipython3",
   "version": "3.6.5"
  }
 },
 "nbformat": 4,
 "nbformat_minor": 2
}
