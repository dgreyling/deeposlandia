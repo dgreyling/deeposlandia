{
 "cells": [
  {
   "cell_type": "markdown",
   "metadata": {},
   "source": [
    "# Shape dataset"
   ]
  },
  {
   "cell_type": "markdown",
   "metadata": {},
   "source": [
    "This notebook aims at presenting the Shapes dataset, a random set of images that depict simple geometrical shapes (*i.e.* squares, triangles, circles). This dataset is inspired from [Mask_RCNN](https://github.com/matterport/Mask_RCNN/tree/master/samples/shapes) repo, where a similar Shape dataset is built for illustration purpose."
   ]
  },
  {
   "cell_type": "markdown",
   "metadata": {},
   "source": [
    "## Introduction"
   ]
  },
  {
   "cell_type": "markdown",
   "metadata": {},
   "source": [
    "Some modules are imported to do the job, as usual:"
   ]
  },
  {
   "cell_type": "code",
   "execution_count": 1,
   "metadata": {},
   "outputs": [],
   "source": [
    "import numpy as np\n",
    "import os\n",
    "import pandas as pd\n",
    "import json\n",
    "from PIL import Image\n",
    "import matplotlib.pyplot as plt\n",
    "import seaborn as sns\n",
    "\n",
    "%matplotlib inline"
   ]
  },
  {
   "cell_type": "code",
   "execution_count": 2,
   "metadata": {},
   "outputs": [],
   "source": [
    "from deeposlandia import utils, dataset"
   ]
  },
  {
   "cell_type": "code",
   "execution_count": 3,
   "metadata": {},
   "outputs": [],
   "source": [
    "DATAPATH = \"../data\"\n",
    "DATASET = \"shapes\""
   ]
  },
  {
   "cell_type": "markdown",
   "metadata": {},
   "source": [
    "## Metadata presentation"
   ]
  },
  {
   "cell_type": "markdown",
   "metadata": {},
   "source": [
    "The dataset contains 25000 images, splitted in training, validation and testing subsets on the same way as [Mapillary](./mapillary_dataset_presentation.ipynb) dataset:\n",
    "- 18000 training images;\n",
    "- 2000 validation images;\n",
    "- 5000 testing images."
   ]
  },
  {
   "cell_type": "markdown",
   "metadata": {},
   "source": [
    "The images here are `64*64` sized; they are composed of a square (or not), a circle (or not) and a triangle (or not). One can have empty images as well as images with three shapes. Then the shapes may overlap. The background as well as the shapes are randomly coloured. "
   ]
  },
  {
   "cell_type": "code",
   "execution_count": 4,
   "metadata": {},
   "outputs": [
    {
     "name": "stdout",
     "output_type": "stream",
     "text": [
      "Number of training images: 18000\n",
      "Number of validation images: 2000\n",
      "Number of testing images: 5000\n"
     ]
    }
   ],
   "source": [
    "print(\"Number of training images: {}\".format(len(os.listdir(os.path.join(DATAPATH, DATASET, \"preprocessed\", \"64_full\", \"training\", \"images\")))))\n",
    "print(\"Number of validation images: {}\".format(len(os.listdir(os.path.join(DATAPATH, DATASET, \"preprocessed\", \"64_full\", \"validation\", \"images\")))))\n",
    "print(\"Number of testing images: {}\".format(len(os.listdir(os.path.join(DATAPATH, DATASET, \"preprocessed\", \"64_full\", \"testing\", \"images\")))))"
   ]
  },
  {
   "cell_type": "markdown",
   "metadata": {},
   "source": [
    "## Some examples"
   ]
  },
  {
   "cell_type": "code",
   "execution_count": 5,
   "metadata": {},
   "outputs": [],
   "source": [
    "def show_example_image(image_filename):\n",
    "    im = Image.open(os.path.join(DATAPATH, DATASET, \"preprocessed\", \"64_full\", \"training\", \"images\", image_filename))\n",
    "    lab = Image.open(os.path.join(DATAPATH, DATASET, \"preprocessed\", \"64_full\", \"training\", \"labels\", image_filename))\n",
    "    f, ax = plt.subplots(1, 2, figsize=(12, 6))\n",
    "    ax[0].imshow(im)\n",
    "    ax[1].imshow(lab)"
   ]
  },
  {
   "cell_type": "code",
   "execution_count": 6,
   "metadata": {},
   "outputs": [
    {
     "data": {
      "image/png": "[encoded data removed]",
      "text/plain": [
       "<Figure size 864x432 with 2 Axes>"
      ]
     },
     "metadata": {},
     "output_type": "display_data"
    }
   ],
   "source": [
    "show_example_image(\"shape_00002.png\")"
   ]
  },
  {
   "cell_type": "code",
   "execution_count": 7,
   "metadata": {},
   "outputs": [
    {
     "data": {
      "image/png": "[encoded data removed]",
      "text/plain": [
       "<Figure size 864x432 with 2 Axes>"
      ]
     },
     "metadata": {},
     "output_type": "display_data"
    }
   ],
   "source": [
    "show_example_image(\"shape_00000.png\")"
   ]
  },
  {
   "cell_type": "code",
   "execution_count": 8,
   "metadata": {},
   "outputs": [
    {
     "data": {
      "image/png": "[encoded data removed]",
      "text/plain": [
       "<Figure size 864x432 with 2 Axes>"
      ]
     },
     "metadata": {},
     "output_type": "display_data"
    }
   ],
   "source": [
    "show_example_image(\"shape_00033.png\")"
   ]
  },
  {
   "cell_type": "code",
   "execution_count": 9,
   "metadata": {},
   "outputs": [
    {
     "data": {
      "image/png": "[encoded data removed]",
      "text/plain": [
       "<Figure size 864x432 with 2 Axes>"
      ]
     },
     "metadata": {},
     "output_type": "display_data"
    }
   ],
   "source": [
    "show_example_image(\"shape_00042.png\")"
   ]
  },
  {
   "cell_type": "markdown",
   "metadata": {},
   "source": [
    "## Dataset handling"
   ]
  },
  {
   "cell_type": "markdown",
   "metadata": {},
   "source": [
    "One may create a shape dataset easily in two steps. First one has to declare an instance of `ShapeDataset`, by passing an image size as a parameter."
   ]
  },
  {
   "cell_type": "code",
   "execution_count": 19,
   "metadata": {},
   "outputs": [],
   "source": [
    "d = dataset.ShapeDataset(48)"
   ]
  },
  {
   "cell_type": "markdown",
   "metadata": {},
   "source": [
    "At this step, there is not any image in the dataset, however, the label glossary is seeable."
   ]
  },
  {
   "cell_type": "code",
   "execution_count": 20,
   "metadata": {},
   "outputs": [
    {
     "data": {
      "text/plain": [
       "['square', 'circle', 'triangle', 'background']"
      ]
     },
     "execution_count": 20,
     "metadata": {},
     "output_type": "execute_result"
    }
   ],
   "source": [
    "[item['name'] for item in d.label_info]"
   ]
  },
  {
   "cell_type": "markdown",
   "metadata": {},
   "source": [
    "Then, the dataset must be fillet out with some brand new images. One may specify the image quantity, as well as an output directory if one wants to write these images onto the disk:"
   ]
  },
  {
   "cell_type": "code",
   "execution_count": 21,
   "metadata": {},
   "outputs": [
    {
     "data": {
      "text/plain": [
       "5"
      ]
     },
     "execution_count": 21,
     "metadata": {},
     "output_type": "execute_result"
    }
   ],
   "source": [
    "d.populate(output_dir=None, nb_images=5)\n",
    "d.get_nb_images()"
   ]
  },
  {
   "cell_type": "markdown",
   "metadata": {},
   "source": [
    "The dataset may also be loaded starting from an existing dataset: by picking a `.json` configuration file stored in the `preprocessed` folder, one may recover some previously generated files."
   ]
  },
  {
   "cell_type": "code",
   "execution_count": 22,
   "metadata": {},
   "outputs": [
    {
     "name": "stdout",
     "output_type": "stream",
     "text": [
      "2018-08-20 19:36:47,915 :: INFO :: dataset :: load : The dataset has been loaded from ../data/shapes/preprocessed/64_full/training.json\n"
     ]
    },
    {
     "data": {
      "text/plain": [
       "5"
      ]
     },
     "execution_count": 22,
     "metadata": {},
     "output_type": "execute_result"
    }
   ],
   "source": [
    "preprocess_folder = utils.prepare_preprocessed_folder(DATAPATH, DATASET, 64, \"full\")\n",
    "d.load(preprocess_folder[\"training_config\"], 5)\n",
    "d.get_nb_images()"
   ]
  }
 ],
 "metadata": {
  "kernelspec": {
   "display_name": "Python 3",
   "language": "python",
   "name": "python3"
  },
  "language_info": {
   "codemirror_mode": {
    "name": "ipython",
    "version": 3
   },
   "file_extension": ".py",
   "mimetype": "text/x-python",
   "name": "python",
   "nbconvert_exporter": "python",
   "pygments_lexer": "ipython3",
   "version": "3.6.5"
  }
 },
 "nbformat": 4,
 "nbformat_minor": 2
}
